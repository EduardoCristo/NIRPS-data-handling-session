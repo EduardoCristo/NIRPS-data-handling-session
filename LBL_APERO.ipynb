{
 "cells": [
  {
   "cell_type": "code",
   "execution_count": 1,
   "id": "477d7876",
   "metadata": {},
   "outputs": [],
   "source": [
    "import lbl\n",
    "from lbl import lbl_wrap\n",
    "import matplotlib.pyplot as plt\n",
    "import glob\n",
    "import numpy as np\n",
    "from astropy.io import fits\n",
    "%matplotlib inline"
   ]
  },
  {
   "cell_type": "markdown",
   "id": "15875db9",
   "metadata": {},
   "source": [
    "# LBL parameters"
   ]
  },
  {
   "cell_type": "code",
   "execution_count": 2,
   "id": "a3ccb627",
   "metadata": {},
   "outputs": [],
   "source": [
    "rparams = dict()"
   ]
  },
  {
   "cell_type": "markdown",
   "id": "c7aeb399",
   "metadata": {},
   "source": [
    "The instrument name and modes between the following: SPIROU, HARPS, ESPRESSO, CARMENES, NIRPS_HE, NIRPS_HA"
   ]
  },
  {
   "cell_type": "code",
   "execution_count": 3,
   "id": "84f64174",
   "metadata": {},
   "outputs": [],
   "source": [
    "rparams['INSTRUMENT'] = 'NIRPS_HE'"
   ]
  },
  {
   "cell_type": "markdown",
   "id": "d155ea7c",
   "metadata": {},
   "source": [
    "Source of the reduced data. Between APERO or ESO"
   ]
  },
  {
   "cell_type": "code",
   "execution_count": 4,
   "id": "32d12316",
   "metadata": {},
   "outputs": [],
   "source": [
    "rparams['DATA_SOURCE'] = 'APERO'"
   ]
  },
  {
   "cell_type": "markdown",
   "id": "64ce274c",
   "metadata": {},
   "source": [
    "Path to the data folder. It must have a structure /science/[target_name]"
   ]
  },
  {
   "cell_type": "code",
   "execution_count": 5,
   "id": "8a6f55f5",
   "metadata": {},
   "outputs": [],
   "source": [
    "rparams['DATA_DIR'] = '/home/ecristo/Desktop/Doutoramento/NIRPS_SEMINAR/TEST/NIRPS-data-handling-session/science_APERO'\n"
   ]
  },
  {
   "cell_type": "code",
   "execution_count": 6,
   "id": "a0bacc5b",
   "metadata": {},
   "outputs": [],
   "source": [
    "# -------------------------------------------------------------------------\n",
    "# science criteria\n",
    "# -------------------------------------------------------------------------\n",
    "# The data type (either SCIENCE or FP or LFC)\n",
    "rparams['DATA_TYPES'] = ['SCIENCE']\n",
    "# The object name (this is the directory name under the /science/\n",
    "#    sub-directory and thus does not have to be the name in the header\n",
    "rparams['OBJECT_SCIENCE'] = ['PROXIMA']\n",
    "# This is the template that will be used or created (depending on what is\n",
    "#   run)\n",
    "rparams['OBJECT_TEMPLATE'] = ['PROXIMA']\n",
    "# This is the object temperature in K - used for getting a stellar model\n",
    "#   for the masks it only has to be good to a few 100 K\n",
    "rparams['OBJECT_TEFF'] = [3000]"
   ]
  },
  {
   "cell_type": "code",
   "execution_count": 7,
   "id": "d9675f77",
   "metadata": {},
   "outputs": [],
   "source": [
    "# -------------------------------------------------------------------------\n",
    "# what to run and skip if already on disk\n",
    "# -------------------------------------------------------------------------\n",
    "# Whether to run the telluric cleaning process (NOT recommended for data\n",
    "#   that has better telluric cleaning i.e. SPIROU using APERO)\n",
    "rparams['RUN_LBL_TELLUCLEAN'] = False\n",
    "# Whether to create templates from the data in the science directory\n",
    "#   If a template has been supplied from elsewhere this set is NOT required\n",
    "rparams['RUN_LBL_TEMPLATE'] = True\n",
    "# Whether to create a mask using the template created or supplied\n",
    "rparams['RUN_LBL_MASK'] = True\n",
    "# Whether to run the LBL compute step - which computes the line by line\n",
    "#   for each observation\n",
    "rparams['RUN_LBL_COMPUTE'] = True\n",
    "# Whether to run the LBL compile step - which compiles the rdb file and\n",
    "#   deals with outlier rejection\n",
    "rparams['RUN_LBL_COMPILE'] = True\n",
    "# whether to skip observations if a file is already on disk (useful when\n",
    "#   adding a few new files) there is one for each RUN_XXX step\n",
    "#   - Note cannot skip tellu clean\n",
    "rparams['SKIP_LBL_TELLUCLEAN'] = False\n",
    "rparams['SKIP_LBL_TEMPLATE'] = False\n",
    "rparams['SKIP_LBL_MASK'] = False\n",
    "rparams['SKIP_LBL_COMPUTE'] = False\n",
    "rparams['SKIP_LBL_COMPILE'] = False"
   ]
  },
  {
   "cell_type": "markdown",
   "id": "1e33575f",
   "metadata": {},
   "source": [
    "Run the lbl wrapper"
   ]
  },
  {
   "cell_type": "code",
   "execution_count": 8,
   "id": "a728f997",
   "metadata": {},
   "outputs": [],
   "source": [
    "#lbl_wrap(rparams)"
   ]
  },
  {
   "cell_type": "code",
   "execution_count": 9,
   "id": "6bb0fef4",
   "metadata": {},
   "outputs": [],
   "source": [
    "bjd,rv,rv_error=(np.loadtxt(rparams['DATA_DIR']+\"/lblrdb/lbl_PROXIMA_PROXIMA.rdb\", skiprows=2, usecols=(0,1,2))).T"
   ]
  },
  {
   "cell_type": "code",
   "execution_count": 10,
   "id": "0b182f0e",
   "metadata": {},
   "outputs": [
    {
     "data": {
      "image/png": "[encoded data removed]",
      "text/plain": [
       "<Figure size 640x480 with 1 Axes>"
      ]
     },
     "metadata": {},
     "output_type": "display_data"
    },
    {
     "name": "stdout",
     "output_type": "stream",
     "text": [
      "Average photon noise: 68.2cm/s\n",
      "RV dispersion: 1.62m/s\n"
     ]
    }
   ],
   "source": [
    "plt.errorbar(np.array(bjd), np.array(rv)+21309, yerr=np.array(rv_error), fmt=\".k\")\n",
    "plt.xlabel(\"BJD\")\n",
    "plt.ylabel(\"RV+21309 [m/s]\")\n",
    "plt.show()\n",
    "print(\"Average photon noise: \"+str(round(np.mean(rv_error)*100,2))+\"cm/s\")\n",
    "print(\"RV dispersion: \"+str(round(np.std(rv),2))+\"m/s\")"
   ]
  }
 ],
 "metadata": {
  "kernelspec": {
   "display_name": "NIRPS_dhs",
   "language": "python",
   "name": "nirps_dhs"
  },
  "language_info": {
   "codemirror_mode": {
    "name": "ipython",
    "version": 3
   },
   "file_extension": ".py",
   "mimetype": "text/x-python",
   "name": "python",
   "nbconvert_exporter": "python",
   "pygments_lexer": "ipython3",
   "version": "3.9.16"
  }
 },
 "nbformat": 4,
 "nbformat_minor": 5
}
